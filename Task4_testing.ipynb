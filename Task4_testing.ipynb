{
 "cells": [
  {
   "cell_type": "code",
   "execution_count": 36,
   "metadata": {},
   "outputs": [
    {
     "name": "stderr",
     "output_type": "stream",
     "text": [
      "c:\\Users\\benny\\anaconda3\\lib\\site-packages\\pandas\\core\\indexes\\base.py:6982: FutureWarning: In a future version, the Index constructor will not infer numeric dtypes when passed object-dtype sequences (matching Series behavior)\n",
      "  return Index(sequences[0], name=names)\n"
     ]
    }
   ],
   "source": [
    "# -*- coding: utf-8 -*-\n",
    "\"\"\"\n",
    "Created on 2023-10-10\n",
    "\n",
    "@author: ivespe\n",
    "\n",
    "Intro script for Exercise 4 (\"Battery energy storage system in the grid vs. grid investments\") \n",
    "in specialization course module \"Flexibility in power grid operation and planning\" \n",
    "at NTNU (TET4565/TET4575) \n",
    "\n",
    "\"\"\"\n",
    "\n",
    "\n",
    "# %% Dependencies\n",
    "\n",
    "import pandas as pd\n",
    "import os\n",
    "import load_profiles as lp\n",
    "import pandapower_read_csv as ppcsv\n",
    "import matplotlib.pyplot as plt\n",
    "import numpy as np\n",
    "import seaborn as sns\n",
    "\n",
    "\n",
    "# %% Define input data\n",
    "\n",
    "# Location of (processed) data set for CINELDI MV reference system\n",
    "# (to be replaced by your own local data folder)\n",
    "path_data_set         = 'C:/Users/benny/Downloads/Cineldi/Data'\n",
    "\n",
    "filename_load_data_fullpath = os.path.join(path_data_set,'load_data_CINELDI_MV_reference_system.csv')\n",
    "filename_load_mapping_fullpath = os.path.join(path_data_set,'mapping_loads_to_CINELDI_MV_reference_grid.csv')\n",
    "filename_standard_overhead_lines = os.path.join(path_data_set,'standard_overhead_line_types.csv')\n",
    "filename_reldata = os.path.join(path_data_set,'reldata_for_component_types.csv')\n",
    "filename_load_point = os.path.join(path_data_set,'CINELDI_MV_reference_system_load_point.csv')\n",
    "\n",
    "# Subset of load buses to consider in the grid area, considering the area at the end of the main radial in the grid\n",
    "bus_i_subset = [90, 91, 92, 96]\n",
    "\n",
    "# Assumed power flow limit in MW that limit the load demand in the grid area (through line 85-86)\n",
    "P_lim = 4\n",
    "\n",
    "# Factor to scale the loads for this exercise compared with the base version of the CINELDI reference system data set\n",
    "scaling_factor = 10\n",
    "\n",
    "# Read standard data for overhead lines\n",
    "data_standard_overhead_lines = pd.read_csv(filename_standard_overhead_lines, delimiter=';')\n",
    "data_standard_overhead_lines.set_index(keys = 'type', drop = True, inplace = True)\n",
    "\n",
    "# Read standard component reliability data\n",
    "data_comp_rel = pd.read_csv(filename_reldata, delimiter=';')\n",
    "data_comp_rel.set_index(keys = 'main_type', drop = True, inplace = True)\n",
    "\n",
    "# Read load point data (incl. specific rates of costs of energy not supplied) for data\n",
    "data_load_point = pd.read_csv(filename_load_point, delimiter=';')\n",
    "data_load_point.set_index(keys = 'bus_i', drop = True, inplace = True)\n",
    "\n",
    "\n",
    "# %% Read pandapower network\n",
    "\n",
    "net = ppcsv.read_net_from_csv(path_data_set, baseMVA=10)\n",
    "\n",
    "\n",
    "# %% Set up hourly normalized load time series for a representative day (task 2; this code is provided to the students)\n",
    "\n",
    "load_profiles = lp.load_profiles(filename_load_data_fullpath)\n",
    "\n",
    "# Consider only the day with the peak load in the area (28 February)\n",
    "repr_days = [31+28]\n",
    "\n",
    "# Get relative load profiles for representative days mapped to buses of the CINELDI test network;\n",
    "# the column index is the bus number (1-indexed) and the row index is the hour of the year (0-indexed)\n",
    "profiles_mapped = load_profiles.map_rel_load_profiles(filename_load_mapping_fullpath,repr_days)\n",
    "\n",
    "# Calculate load time series in units MW (or, equivalently, MWh/h) by scaling the normalized load time series by the\n",
    "# maximum load value for each of the load points in the grid data set (in units MW); the column index is the bus number\n",
    "# (1-indexed) and the row index is the hour of the year (0-indexed)\n",
    "load_time_series_mapped = profiles_mapped.mul(net.load['p_mw'])\n",
    "\n",
    "\n",
    "# %% Aggregate the load demand in the area\n",
    "\n",
    "# Aggregated load time series for the subset of load buses\n",
    "load_time_series_subset = load_time_series_mapped[bus_i_subset] * scaling_factor\n",
    "load_time_series_subset_aggr = load_time_series_subset.sum(axis=1)\n",
    "\n",
    "P_max = load_time_series_subset_aggr.max()\n"
   ]
  },
  {
   "cell_type": "markdown",
   "metadata": {},
   "source": [
    "## Task 2"
   ]
  },
  {
   "cell_type": "code",
   "execution_count": 37,
   "metadata": {},
   "outputs": [
    {
     "data": {
      "image/png": "[encoded data removed]",
      "text/plain": [
       "<Figure size 720x432 with 1 Axes>"
      ]
     },
     "metadata": {
      "needs_background": "light"
     },
     "output_type": "display_data"
    }
   ],
   "source": [
    "import matplotlib.pyplot as plt\n",
    "\n",
    "# Define the 10-year planning horizon\n",
    "planning_horizon_years = 10\n",
    "\n",
    "# Initialize lists to store peak load values and years\n",
    "peak_load_values = []\n",
    "years = []\n",
    "\n",
    "# Initialize the initial load demand (reference year 0)\n",
    "load_demand = load_time_series_subset_aggr.iloc[0]\n",
    "\n",
    "# Loop through each year in the planning horizon\n",
    "for year in range(1, planning_horizon_years + 1):\n",
    "    # Increase load demand by 3% for the current year\n",
    "    load_demand *= 1.03\n",
    "    \n",
    "    # Calculate the maximum load demand for the current year\n",
    "    max_load_demand = load_demand.max()\n",
    "    \n",
    "    # Store the peak load value and the corresponding year\n",
    "    peak_load_values.append(max_load_demand)\n",
    "    years.append(year)\n",
    "\n",
    "    # Check if the peak load demand exceeds the power flow limit\n",
    "    if max_load_demand > P_lim:\n",
    "        print(f\"Congestion in Year {year}! Peak load demand exceeds the limit ({max_load_demand} MW)\")\n",
    "\n",
    "# Plot the peak load demand over the planning horizon\n",
    "plt.figure(figsize=(10, 6))\n",
    "plt.plot(years, peak_load_values, marker='o', linestyle='-', color='b')\n",
    "plt.axhline(y=P_lim, color='r', linestyle='--', label=f'Congestion Limit ({P_lim} MW)')\n",
    "plt.xlabel(\"Year\")\n",
    "plt.ylabel(\"Peak Load Demand (MW)\")\n",
    "plt.title(\"Peak Load Demand Over 10-Year Planning Horizon\")\n",
    "plt.legend()\n",
    "plt.grid(True)\n",
    "plt.show()\n"
   ]
  },
  {
   "cell_type": "markdown",
   "metadata": {},
   "source": [
    "## Task 3"
   ]
  },
  {
   "cell_type": "code",
   "execution_count": 38,
   "metadata": {},
   "outputs": [
    {
     "name": "stdout",
     "output_type": "stream",
     "text": [
      "Investment cost of the new line (FeAl 70): 154235 NOK per kilometer\n"
     ]
    }
   ],
   "source": [
    "# Retrieve the cost data for the old line type and new line type\n",
    "cost_old_line = 605173#*20\n",
    "cost_new_line = 759408#*20\n",
    "\n",
    "# Calculate the cost difference between the new line and the old line\n",
    "cost_difference = cost_new_line - cost_old_line\n",
    "\n",
    "# Assuming no residual value or decommissioning costs for the old line,\n",
    "# the investment cost of the new line is equal to the cost difference\n",
    "investment_cost_new_line = cost_difference\n",
    "\n",
    "print(f\"Investment cost of the new line (FeAl 70): {investment_cost_new_line} NOK per kilometer\")"
   ]
  },
  {
   "cell_type": "markdown",
   "metadata": {},
   "source": [
    "## Task 4"
   ]
  },
  {
   "cell_type": "code",
   "execution_count": 39,
   "metadata": {},
   "outputs": [
    {
     "name": "stdout",
     "output_type": "stream",
     "text": [
      "Present value of the investment costs: 154235.00 NOK per kilometer\n"
     ]
    }
   ],
   "source": [
    "# Define the discount rate and the number of years into the future\n",
    "discount_rate = 0.04  # 4% as a decimal\n",
    "years_into_future = 0  # Since we're calculating the present value\n",
    "\n",
    "# Calculate the present value\n",
    "present_value = investment_cost_new_line / (1 + discount_rate) ** years_into_future\n",
    "\n",
    "# Display the present value\n",
    "print(f\"Present value of the investment costs: {present_value:.2f} NOK per kilometer\")\n"
   ]
  },
  {
   "cell_type": "markdown",
   "metadata": {},
   "source": [
    "## Task 5"
   ]
  },
  {
   "cell_type": "code",
   "execution_count": 40,
   "metadata": {},
   "outputs": [
    {
     "name": "stdout",
     "output_type": "stream",
     "text": [
      "Residual value of the new line after 20 years: 77117.50 NOK per kilometer\n",
      "Present value of the residual value: 35195.42 NOK per kilometer\n",
      "Present value of the investment cost corrected for the residual value: 119039.58 NOK per kilometer\n"
     ]
    }
   ],
   "source": [
    "# Define the economic lifetime of the new line (in years)\n",
    "economic_lifetime = 40\n",
    "\n",
    "# Define the number of years into the future (20 years analysis horizon)\n",
    "years_into_future = 20\n",
    "\n",
    "# Calculate the residual value of the new line after 20 years\n",
    "# The residual value is the remaining economic life, expressed as a fraction of the initial investment cost.\n",
    "residual_value = (economic_lifetime - years_into_future) / economic_lifetime * investment_cost_new_line\n",
    "\n",
    "# Define the discount rate (4% as a decimal)\n",
    "discount_rate = 0.04\n",
    "\n",
    "# Calculate the present value of the residual value\n",
    "present_value_residual_value = residual_value / (1 + discount_rate) ** years_into_future\n",
    "\n",
    "# Calculate the present value of the investment cost corrected for the residual value\n",
    "present_value_corrected = investment_cost_new_line - present_value_residual_value\n",
    "\n",
    "# Display the results\n",
    "print(f\"Residual value of the new line after 20 years: {residual_value:.2f} NOK per kilometer\")\n",
    "print(f\"Present value of the residual value: {present_value_residual_value:.2f} NOK per kilometer\")\n",
    "print(f\"Present value of the investment cost corrected for the residual value: {present_value_corrected:.2f} NOK per kilometer\")\n"
   ]
  },
  {
   "cell_type": "markdown",
   "metadata": {},
   "source": [
    "## Task 6"
   ]
  },
  {
   "cell_type": "code",
   "execution_count": 41,
   "metadata": {},
   "outputs": [
    {
     "name": "stdout",
     "output_type": "stream",
     "text": [
      "Present value of investment costs without the battery: 0.00 NOK\n",
      "Present value of investment costs with the battery: 1542350.00 NOK\n",
      "Reduction in present value of grid investments: -1542350.00 NOK\n"
     ]
    }
   ],
   "source": [
    "# Define the battery parameters\n",
    "battery_power_capacity = 1  # MW\n",
    "battery_energy_capacity = 2  # MWh\n",
    "\n",
    "# Initialize variables for the simulation\n",
    "years = 20  # Analysis horizon of 20 years\n",
    "load_demand_growth_rate = 0.03  # 3% load demand growth rate per year\n",
    "load_demand = load_time_series_subset_aggr.iloc[0]  # Initial load demand\n",
    "\n",
    "# Lists to store data for plotting\n",
    "peak_load_values = []\n",
    "investment_costs = []\n",
    "\n",
    "# Loop through each year in the analysis horizon\n",
    "for year in range(1, years + 1):\n",
    "    # Increase load demand by the load demand growth rate\n",
    "    load_demand *= (1 + load_demand_growth_rate)\n",
    "    \n",
    "    # Calculate the maximum load demand for the current year\n",
    "    max_load_demand = load_demand.max()\n",
    "    peak_load_values.append(max_load_demand)\n",
    "    \n",
    "    # Calculate the investment cost if grid reinforcement is needed\n",
    "    if max_load_demand > P_lim:\n",
    "        investment_cost = investment_cost_new_line\n",
    "    else:\n",
    "        investment_cost = 0  # No grid reinforcement needed\n",
    "    \n",
    "    investment_costs.append(investment_cost)\n",
    "    \n",
    "    # Check if the battery can defer the need for grid reinforcement\n",
    "    if max_load_demand > (P_lim - battery_power_capacity):\n",
    "        # If the battery can cover the deficit, no grid reinforcement needed\n",
    "        investment_cost = 0\n",
    "    else:\n",
    "        # Grid reinforcement needed\n",
    "        investment_cost = investment_cost_new_line\n",
    "    investment_costs.append(investment_cost)\n",
    "\n",
    "# Calculate the present value of investment costs without the battery\n",
    "pv_investment_costs_without_battery = sum(investment_costs[:years])  # Investment costs in the first 20 years\n",
    "\n",
    "# Calculate the present value of investment costs with the battery\n",
    "pv_investment_costs_with_battery = sum(investment_costs)  # Investment costs over the entire horizon\n",
    "\n",
    "# Calculate the reduction in present value of grid investments\n",
    "reduction_in_present_value = pv_investment_costs_without_battery - pv_investment_costs_with_battery\n",
    "\n",
    "# Display the results\n",
    "print(f\"Present value of investment costs without the battery: {pv_investment_costs_without_battery:.2f} NOK\")\n",
    "print(f\"Present value of investment costs with the battery: {pv_investment_costs_with_battery:.2f} NOK\")\n",
    "print(f\"Reduction in present value of grid investments: {reduction_in_present_value:.2f} NOK\")\n"
   ]
  },
  {
   "cell_type": "markdown",
   "metadata": {},
   "source": [
    "## Task 7"
   ]
  },
  {
   "cell_type": "code",
   "execution_count": 42,
   "metadata": {},
   "outputs": [
    {
     "name": "stdout",
     "output_type": "stream",
     "text": [
      "Year 1: Annual operational costs due to congestion management = 29200000.00 NOK\n",
      "Year 2: Annual operational costs due to congestion management = 29200000.00 NOK\n",
      "Year 3: Annual operational costs due to congestion management = 29200000.00 NOK\n",
      "Year 4: Annual operational costs due to congestion management = 29200000.00 NOK\n",
      "Year 5: Annual operational costs due to congestion management = 29200000.00 NOK\n",
      "Year 6: Annual operational costs due to congestion management = 29200000.00 NOK\n",
      "Year 7: Annual operational costs due to congestion management = 29200000.00 NOK\n",
      "Year 8: Annual operational costs due to congestion management = 29200000.00 NOK\n",
      "Year 9: Annual operational costs due to congestion management = 29200000.00 NOK\n",
      "Year 10: Annual operational costs due to congestion management = 29200000.00 NOK\n",
      "Year 11: Annual operational costs due to congestion management = 0.00 NOK\n",
      "Year 12: Annual operational costs due to congestion management = 0.00 NOK\n",
      "Year 13: Annual operational costs due to congestion management = 0.00 NOK\n",
      "Year 14: Annual operational costs due to congestion management = 0.00 NOK\n",
      "Year 15: Annual operational costs due to congestion management = 0.00 NOK\n",
      "Year 16: Annual operational costs due to congestion management = 0.00 NOK\n",
      "Year 17: Annual operational costs due to congestion management = 0.00 NOK\n",
      "Year 18: Annual operational costs due to congestion management = 0.00 NOK\n",
      "Year 19: Annual operational costs due to congestion management = 0.00 NOK\n",
      "Year 20: Annual operational costs due to congestion management = 0.00 NOK\n",
      "Total operational costs over the entire planning horizon = 292000000.00 NOK\n"
     ]
    }
   ],
   "source": [
    "# Define the cost per MWh energy shifted using the battery\n",
    "cost_per_MWh_shifted = 2000  # NOK per MWh\n",
    "\n",
    "# Define the number of representative days (e.g., 20) when congestion management may be needed\n",
    "number_of_representative_days = 20\n",
    "\n",
    "# Initialize variables to store annual operational costs\n",
    "annual_operational_costs = []\n",
    "\n",
    "# Loop through each year in the planning horizon\n",
    "for year in range(1, years + 1):\n",
    "    # Check if grid reinforcement is needed for the current year\n",
    "    if peak_load_values[year - 1] > P_lim:\n",
    "        # Grid reinforcement is needed, so no operational costs for congestion management\n",
    "        annual_operational_costs.append(0)\n",
    "    else:\n",
    "        # Calculate the number of days when congestion management may be needed (based on the representative days)\n",
    "        days_with_congestion = number_of_representative_days\n",
    "        \n",
    "        # Calculate the daily operational costs for congestion management\n",
    "        daily_cost = days_with_congestion * cost_per_MWh_shifted * battery_energy_capacity\n",
    "        \n",
    "        # Estimate the annual operational costs\n",
    "        annual_operational_costs.append(daily_cost * 365)  # 365 days in a year\n",
    "        \n",
    "# Display the annual operational costs for each year\n",
    "for year, cost in enumerate(annual_operational_costs, start=1):\n",
    "    print(f\"Year {year}: Annual operational costs due to congestion management = {cost:.2f} NOK\")\n",
    "\n",
    "# Calculate the total annual operational costs over the planning horizon\n",
    "total_annual_operational_costs = sum(annual_operational_costs)\n",
    "print(f\"Total operational costs over the entire planning horizon = {total_annual_operational_costs:.2f} NOK\")\n"
   ]
  },
  {
   "cell_type": "markdown",
   "metadata": {},
   "source": [
    "## Task 8"
   ]
  },
  {
   "cell_type": "code",
   "execution_count": 43,
   "metadata": {},
   "outputs": [
    {
     "name": "stdout",
     "output_type": "stream",
     "text": [
      "Year 1: Expected Energy Not Supplied (ENS) = 36.82 MWh\n",
      "Year 2: Expected Energy Not Supplied (ENS) = 36.82 MWh\n",
      "Year 3: Expected Energy Not Supplied (ENS) = 36.82 MWh\n",
      "Year 4: Expected Energy Not Supplied (ENS) = 36.82 MWh\n",
      "Year 5: Expected Energy Not Supplied (ENS) = 36.82 MWh\n",
      "Year 6: Expected Energy Not Supplied (ENS) = 36.82 MWh\n",
      "Year 7: Expected Energy Not Supplied (ENS) = 36.82 MWh\n",
      "Year 8: Expected Energy Not Supplied (ENS) = 36.82 MWh\n",
      "Year 9: Expected Energy Not Supplied (ENS) = 36.82 MWh\n",
      "Year 10: Expected Energy Not Supplied (ENS) = 36.82 MWh\n",
      "Year 11: Expected Energy Not Supplied (ENS) = 36.82 MWh\n",
      "Year 12: Expected Energy Not Supplied (ENS) = 36.82 MWh\n",
      "Year 13: Expected Energy Not Supplied (ENS) = 36.82 MWh\n",
      "Year 14: Expected Energy Not Supplied (ENS) = 36.82 MWh\n",
      "Year 15: Expected Energy Not Supplied (ENS) = 36.82 MWh\n",
      "Year 16: Expected Energy Not Supplied (ENS) = 36.82 MWh\n",
      "Year 17: Expected Energy Not Supplied (ENS) = 36.82 MWh\n",
      "Year 18: Expected Energy Not Supplied (ENS) = 36.82 MWh\n",
      "Year 19: Expected Energy Not Supplied (ENS) = 36.82 MWh\n",
      "Year 20: Expected Energy Not Supplied (ENS) = 36.82 MWh\n",
      "Total ENS over the entire planning horizon = 736.40 MWh\n"
     ]
    }
   ],
   "source": [
    "# Initialize variables to store ENS for each year\n",
    "ENS_values = []\n",
    "\n",
    "# Define the length of the feeder line (in km)\n",
    "feeder_length = 20\n",
    "\n",
    "# Average load demand in the reference year (in MW)\n",
    "average_load_demand = 1.841\n",
    "\n",
    "# Loop through each year in the planning horizon\n",
    "for year in range(1, years + 1):\n",
    "    # Calculate the average annual failure rate using the fault rate for the \"Old_Line\"\n",
    "    average_failure_rate = data_comp_rel.loc['Overhead line (1–22 kV)', 'lambda_perm']\n",
    "    \n",
    "    # Calculate the expected duration of interruption (DUI) in hours\n",
    "    DUI = 1 / average_failure_rate\n",
    "    \n",
    "    # Calculate the ENS for the current year using the old line\n",
    "    ENS_old_line = average_failure_rate * feeder_length * average_load_demand * DUI\n",
    "    \n",
    "    # Store the ENS for the old line (solution A)\n",
    "    ENS_values.append(ENS_old_line)\n",
    "\n",
    "# Display the ENS for each year\n",
    "for year, ENS in enumerate(ENS_values, start=1):\n",
    "    print(f\"Year {year}: Expected Energy Not Supplied (ENS) = {ENS:.2f} MWh\")\n",
    "\n",
    "# Calculate the total ENS over the entire planning horizon\n",
    "total_Energy_Not_Supplied = sum(ENS_values)\n",
    "print(f\"Total ENS over the entire planning horizon = {total_Energy_Not_Supplied:.2f} MWh\")\n",
    "\n"
   ]
  },
  {
   "cell_type": "markdown",
   "metadata": {},
   "source": [
    "## Task 9"
   ]
  },
  {
   "cell_type": "code",
   "execution_count": 47,
   "metadata": {},
   "outputs": [
    {
     "name": "stdout",
     "output_type": "stream",
     "text": [
      "Year 1: Interruption Costs (CENS) = 2.22 NOK\n",
      "Year 2: Interruption Costs (CENS) = 2.22 NOK\n",
      "Year 3: Interruption Costs (CENS) = 2.22 NOK\n",
      "Year 4: Interruption Costs (CENS) = 2.22 NOK\n",
      "Year 5: Interruption Costs (CENS) = 2.22 NOK\n",
      "Year 6: Interruption Costs (CENS) = 2.22 NOK\n",
      "Year 7: Interruption Costs (CENS) = 2.22 NOK\n",
      "Year 8: Interruption Costs (CENS) = 2.22 NOK\n",
      "Year 9: Interruption Costs (CENS) = 2.22 NOK\n",
      "Year 10: Interruption Costs (CENS) = 2.22 NOK\n",
      "Year 11: Interruption Costs (CENS) = 2.22 NOK\n",
      "Year 12: Interruption Costs (CENS) = 2.22 NOK\n",
      "Year 13: Interruption Costs (CENS) = 2.22 NOK\n",
      "Year 14: Interruption Costs (CENS) = 2.22 NOK\n",
      "Year 15: Interruption Costs (CENS) = 2.22 NOK\n",
      "Year 16: Interruption Costs (CENS) = 2.22 NOK\n",
      "Year 17: Interruption Costs (CENS) = 2.22 NOK\n",
      "Year 18: Interruption Costs (CENS) = 2.22 NOK\n",
      "Year 19: Interruption Costs (CENS) = 2.22 NOK\n",
      "Year 20: Interruption Costs (CENS) = 2.22 NOK\n",
      "Total Interruption Costs over the entire planning horizon = 44.42 NOK\n"
     ]
    }
   ],
   "source": [
    "# Initialize variables to store CENS for each year\n",
    "CENS_values_A = []\n",
    "\n",
    "# Loop through each year in the planning horizon\n",
    "for year in range(1, years + 1):\n",
    "    # Calculate the expected energy not supplied (ENS) for the current year\n",
    "    ENS = ENS_values[year - 1]  # ENS estimated for solution A\n",
    "    \n",
    "    # Retrieve the specific interruption cost rate (NOK per MWh) based on customer type\n",
    "    customer_type = \"residential\"  # Change this based on the customer type\n",
    "    specific_interrupt_cost_rate_1h = data_load_point.loc[data_load_point['customer_type'] == customer_type, 'c_NOK_per_kWh_1h'].values[0]\n",
    "    \n",
    "    # Calculate the interruption cost (CENS) for the current year\n",
    "    CENS = (ENS / 1000) * specific_interrupt_cost_rate_1h  # Convert ENS to MWh\n",
    "    \n",
    "    # Store the CENS for the current year\n",
    "    CENS_values_A.append(CENS)\n",
    "\n",
    "# Display the interruption costs for each year\n",
    "for year, CENS in enumerate(CENS_values_A, start=1):\n",
    "    print(f\"Year {year}: Interruption Costs (CENS) = {CENS:.2f} NOK\")\n",
    "\n",
    "# Calculate the total interruption costs over the entire planning horizon\n",
    "total_interruption_costs = sum(CENS_values_A)\n",
    "print(f\"Total Interruption Costs over the entire planning horizon = {total_interruption_costs:.2f} NOK\")\n",
    "\n"
   ]
  },
  {
   "cell_type": "markdown",
   "metadata": {},
   "source": [
    "## Task 10"
   ]
  },
  {
   "cell_type": "code",
   "execution_count": 48,
   "metadata": {},
   "outputs": [
    {
     "name": "stdout",
     "output_type": "stream",
     "text": [
      "Year 1: Interruption Costs (CENS) = 2.22 NOK\n",
      "Year 2: Interruption Costs (CENS) = 2.22 NOK\n",
      "Year 3: Interruption Costs (CENS) = 2.22 NOK\n",
      "Year 4: Interruption Costs (CENS) = 2.22 NOK\n",
      "Year 5: Interruption Costs (CENS) = 2.22 NOK\n",
      "Year 6: Interruption Costs (CENS) = 2.22 NOK\n",
      "Year 7: Interruption Costs (CENS) = 2.22 NOK\n",
      "Year 8: Interruption Costs (CENS) = 2.22 NOK\n",
      "Year 9: Interruption Costs (CENS) = 2.22 NOK\n",
      "Year 10: Interruption Costs (CENS) = 2.22 NOK\n",
      "Year 11: Interruption Costs (CENS) = 2.22 NOK\n",
      "Year 12: Interruption Costs (CENS) = 2.22 NOK\n",
      "Year 13: Interruption Costs (CENS) = 2.22 NOK\n",
      "Year 14: Interruption Costs (CENS) = 2.22 NOK\n",
      "Year 15: Interruption Costs (CENS) = 2.22 NOK\n",
      "Year 16: Interruption Costs (CENS) = 2.22 NOK\n",
      "Year 17: Interruption Costs (CENS) = 2.22 NOK\n",
      "Year 18: Interruption Costs (CENS) = 2.22 NOK\n",
      "Year 19: Interruption Costs (CENS) = 2.22 NOK\n",
      "Year 20: Interruption Costs (CENS) = 2.22 NOK\n",
      "Total Interruption Costs over the entire planning horizon = 44.42 NOK\n"
     ]
    }
   ],
   "source": [
    "# Initialize variables to store CENS for each year\n",
    "CENS_values_B = []\n",
    "\n",
    "# Loop through each year in the planning horizon\n",
    "for year in range(1, years + 1):\n",
    "    # Calculate the expected energy not supplied (ENS) for the current year\n",
    "    ENS = ENS_values[year - 1]  # ENS estimated for solution A\n",
    "    \n",
    "    # Calculate the expected duration of interruption (DUI) using the average fault rate\n",
    "    average_failure_rate = data_comp_rel.loc['Overhead line (1–22 kV)', 'lambda_perm']\n",
    "    DUI = 1 / average_failure_rate\n",
    "    \n",
    "    # Retrieve the specific interruption cost rate (NOK per MWh) based on customer type\n",
    "    customer_type = \"residential\"  # Change this based on the customer type\n",
    "    specific_interrupt_cost_rate_1h = data_load_point.loc[data_load_point['customer_type'] == customer_type, 'c_NOK_per_kWh_1h'].values[0]\n",
    "    \n",
    "    # Calculate the interruption cost (CENS) for the current year\n",
    "    CENS = (ENS / 1000) * specific_interrupt_cost_rate_1h  # Convert ENS to MWh\n",
    "    \n",
    "    # Store the CENS for the current year\n",
    "    CENS_values_B.append(CENS)\n",
    "\n",
    "# Display the interruption costs for each year\n",
    "for year, CENS in enumerate(CENS_values_B, start=1):\n",
    "    print(f\"Year {year}: Interruption Costs (CENS) = {CENS:.2f} NOK\")\n",
    "\n",
    "# Calculate the total interruption costs over the entire planning horizon\n",
    "total_interruption_costs = sum(CENS_values_B)\n",
    "print(f\"Total Interruption Costs over the entire planning horizon = {total_interruption_costs:.2f} NOK\")\n"
   ]
  },
  {
   "cell_type": "markdown",
   "metadata": {},
   "source": [
    "## Task 12"
   ]
  },
  {
   "cell_type": "code",
   "execution_count": 49,
   "metadata": {},
   "outputs": [
    {
     "name": "stdout",
     "output_type": "stream",
     "text": [
      "| Year (t) | Expected Interruption Costs (CENS) | Present Value (PV) of CENS | Investment Cost (IC) | Residual Value (RV) |\n",
      "| 1        | 2.22                             | 2.14                      |                       |                     |\n",
      "| 2        | 2.22                             | 2.05                      |                       |                     |\n",
      "| 3        | 2.22                             | 1.97                      |                       |                     |\n",
      "| 4        | 2.22                             | 1.90                      |                       |                     |\n",
      "| 5        | 2.22                             | 1.83                      |                       |                     |\n",
      "| 6        | 2.22                             | 1.76                      |                       |                     |\n",
      "| 7        | 2.22                             | 1.69                      |                       |                     |\n",
      "| 8        | 2.22                             | 1.62                      |                       |                     |\n",
      "| 9        | 2.22                             | 1.56                      |                       |                     |\n",
      "| 10        | 2.22                             | 1.50                      |                       |                     |\n",
      "| Total    | Sum of PV                         | -931.99                 | 1000.00                    | 50.00                  |\n"
     ]
    }
   ],
   "source": [
    "# Define the discount rate (4%) and planning horizon (10 years)\n",
    "discount_rate = 0.04\n",
    "planning_horizon = 10\n",
    "\n",
    "# Initialize variables to store the expected interruption costs (CENS) for each year\n",
    "expected_interruption_costs = [CENS_values_A[i] for i in range(1, 11)]\n",
    "# Initialize investment cost (IC) and residual value (RV)\n",
    "investment_cost = 1000      #IC  # Replace with the actual investment cost\n",
    "residual_value =  50       #RV  # Replace with the actual residual value\n",
    "\n",
    "# Initialize variables to store present values (PV) and NPV\n",
    "present_values = []\n",
    "NPV_total = 0\n",
    "\n",
    "# Calculate the present value (PV) and NPV for each year\n",
    "for t in range(1, planning_horizon + 1):\n",
    "    PV_t = expected_interruption_costs[t - 1] / (1 + discount_rate) ** t\n",
    "    present_values.append(PV_t)\n",
    "    NPV_total += PV_t\n",
    "\n",
    "# Add IC and RV to the total NPV\n",
    "NPV_total += (-investment_cost + residual_value)\n",
    "\n",
    "# Display the results and fill out the table\n",
    "print(\"| Year (t) | Expected Interruption Costs (CENS) | Present Value (PV) of CENS | Investment Cost (IC) | Residual Value (RV) |\")\n",
    "for t in range(1, planning_horizon + 1):\n",
    "    print(f\"| {t}        | {expected_interruption_costs[t - 1]:.2f}                             | {present_values[t - 1]:.2f}                      |                       |                     |\")\n",
    "\n",
    "print(f\"| Total    | Sum of PV                         | {NPV_total:.2f}                 | {investment_cost:.2f}                    | {residual_value:.2f}                  |\")\n"
   ]
  },
  {
   "cell_type": "markdown",
   "metadata": {},
   "source": [
    "## Task 13"
   ]
  },
  {
   "cell_type": "code",
   "execution_count": 50,
   "metadata": {},
   "outputs": [
    {
     "name": "stdout",
     "output_type": "stream",
     "text": [
      "| Year (t) | Expected Interruption Costs (CENS) | Present Value (PV) of CENS | Investment Cost (IC) | Residual Value (RV) |\n",
      "| 1        | 2.22                             | 963.67                      | 1000.00                    |                       |\n",
      "| 2        | 2.22                             | 926.61                      | 1000.00                    |                       |\n",
      "| 3        | 2.22                             | 890.97                      | 1000.00                    |                       |\n",
      "| 4        | 2.22                             | 856.70                      | 1000.00                    |                       |\n",
      "| 5        | 2.22                             | 823.75                      | 1000.00                    |                       |\n",
      "| 6        | 2.22                             | 792.07                      | 1000.00                    |                       |\n",
      "| 7        | 2.22                             | 761.61                      | 1000.00                    |                       |\n",
      "| 8        | 2.22                             | 732.31                      | 1000.00                    |                       |\n",
      "| 9        | 2.22                             | 704.15                      | 1000.00                    |                       |\n",
      "| 10        | 2.22                             | 677.06                      | 1000.00                    |                       |\n",
      "| Total    | Sum of PV                         | 8128.91                 | 1000.00                    |                       |\n"
     ]
    }
   ],
   "source": [
    "# Define the discount rate (4%) and planning horizon (10 years)\n",
    "discount_rate = 0.04\n",
    "planning_horizon = 10\n",
    "\n",
    "# Initialize the list of CENS values for solution B from your code\n",
    "# These are the annual operational costs due to flexibility activation for each year\n",
    "# You can calculate these costs based on the provided information\n",
    "CENS_values_solution_B = [CENS_values_B[i] for i in range(1, 11)]\n",
    "\n",
    "# Initialize investment cost (IC) for solution B\n",
    "# Replace with the actual investment cost for the battery as a temporary measure\n",
    "investment_cost_solution_B = 1000 #IC_solution_B\n",
    "\n",
    "# Initialize variables to store present values (PV) and NPV\n",
    "present_values = []\n",
    "NPV_total = 0\n",
    "\n",
    "# Construct the expected_interruption_costs list for solution B by copying CENS values\n",
    "expected_interruption_costs_solution_B = CENS_values_solution_B.copy()\n",
    "\n",
    "# Calculate the present value (PV) and NPV for each year\n",
    "for t in range(1, planning_horizon + 1):\n",
    "    PV_t = (CENS_values_solution_B[t - 1] + investment_cost_solution_B) / (1 + discount_rate) ** t\n",
    "    present_values.append(PV_t)\n",
    "    NPV_total += PV_t\n",
    "\n",
    "# Display the results and fill out the table\n",
    "print(\"| Year (t) | Expected Interruption Costs (CENS) | Present Value (PV) of CENS | Investment Cost (IC) | Residual Value (RV) |\")\n",
    "for t in range(1, planning_horizon + 1):\n",
    "    print(f\"| {t}        | {expected_interruption_costs_solution_B[t - 1]:.2f}                             | {present_values[t - 1]:.2f}                      | {investment_cost_solution_B:.2f}                    |                       |\")\n",
    "\n",
    "print(f\"| Total    | Sum of PV                         | {NPV_total:.2f}                 | {investment_cost_solution_B:.2f}                    |                       |\")\n"
   ]
  }
 ],
 "metadata": {
  "kernelspec": {
   "display_name": "base",
   "language": "python",
   "name": "python3"
  },
  "language_info": {
   "codemirror_mode": {
    "name": "ipython",
    "version": 3
   },
   "file_extension": ".py",
   "mimetype": "text/x-python",
   "name": "python",
   "nbconvert_exporter": "python",
   "pygments_lexer": "ipython3",
   "version": "3.9.12"
  }
 },
 "nbformat": 4,
 "nbformat_minor": 2
}
