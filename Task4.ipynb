{
 "cells": [
  {
   "cell_type": "code",
   "execution_count": 61,
   "metadata": {},
   "outputs": [
    {
     "name": "stderr",
     "output_type": "stream",
     "text": [
      "c:\\Users\\benny\\anaconda3\\lib\\site-packages\\pandas\\core\\indexes\\base.py:6982: FutureWarning: In a future version, the Index constructor will not infer numeric dtypes when passed object-dtype sequences (matching Series behavior)\n",
      "  return Index(sequences[0], name=names)\n"
     ]
    }
   ],
   "source": [
    "# -*- coding: utf-8 -*-\n",
    "\"\"\"\n",
    "Created on 2023-10-10\n",
    "\n",
    "@author: ivespe\n",
    "\n",
    "Intro script for Exercise 4 (\"Battery energy storage system in the grid vs. grid investments\") \n",
    "in specialization course module \"Flexibility in power grid operation and planning\" \n",
    "at NTNU (TET4565/TET4575) \n",
    "\n",
    "\"\"\"\n",
    "\n",
    "\n",
    "# %% Dependencies\n",
    "\n",
    "import pandas as pd\n",
    "import os\n",
    "import load_profiles as lp\n",
    "import pandapower_read_csv as ppcsv\n",
    "import matplotlib.pyplot as plt\n",
    "import numpy as np\n",
    "import seaborn as sns\n",
    "\n",
    "\n",
    "# %% Define input data\n",
    "\n",
    "# Location of (processed) data set for CINELDI MV reference system\n",
    "# (to be replaced by your own local data folder)\n",
    "path_data_set         = 'C:/Users/benny/Downloads/Cineldi/Data'\n",
    "\n",
    "filename_load_data_fullpath = os.path.join(path_data_set,'load_data_CINELDI_MV_reference_system.csv')\n",
    "filename_load_mapping_fullpath = os.path.join(path_data_set,'mapping_loads_to_CINELDI_MV_reference_grid.csv')\n",
    "filename_standard_overhead_lines = os.path.join(path_data_set,'standard_overhead_line_types.csv')\n",
    "filename_reldata = os.path.join(path_data_set,'reldata_for_component_types.csv')\n",
    "filename_load_point = os.path.join(path_data_set,'CINELDI_MV_reference_system_load_point.csv')\n",
    "\n",
    "# Subset of load buses to consider in the grid area, considering the area at the end of the main radial in the grid\n",
    "bus_i_subset = [90, 91, 92, 96]\n",
    "\n",
    "# Assumed power flow limit in MW that limit the load demand in the grid area (through line 85-86)\n",
    "P_lim = 4\n",
    "\n",
    "# Factor to scale the loads for this exercise compared with the base version of the CINELDI reference system data set\n",
    "scaling_factor = 10\n",
    "\n",
    "# Read standard data for overhead lines\n",
    "data_standard_overhead_lines = pd.read_csv(filename_standard_overhead_lines, delimiter=';')\n",
    "data_standard_overhead_lines.set_index(keys = 'type', drop = True, inplace = True)\n",
    "\n",
    "# Read standard component reliability data\n",
    "data_comp_rel = pd.read_csv(filename_reldata, delimiter=';')\n",
    "data_comp_rel.set_index(keys = 'main_type', drop = True, inplace = True)\n",
    "\n",
    "# Read load point data (incl. specific rates of costs of energy not supplied) for data\n",
    "data_load_point = pd.read_csv(filename_load_point, delimiter=';')\n",
    "data_load_point.set_index(keys = 'bus_i', drop = True, inplace = True)\n",
    "\n",
    "\n",
    "# %% Read pandapower network\n",
    "\n",
    "net = ppcsv.read_net_from_csv(path_data_set, baseMVA=10)\n",
    "\n",
    "\n",
    "# %% Set up hourly normalized load time series for a representative day (task 2; this code is provided to the students)\n",
    "\n",
    "load_profiles = lp.load_profiles(filename_load_data_fullpath)\n",
    "\n",
    "# Consider only the day with the peak load in the area (28 February)\n",
    "repr_days = [31+28]\n",
    "\n",
    "# Get relative load profiles for representative days mapped to buses of the CINELDI test network;\n",
    "# the column index is the bus number (1-indexed) and the row index is the hour of the year (0-indexed)\n",
    "profiles_mapped = load_profiles.map_rel_load_profiles(filename_load_mapping_fullpath,repr_days)\n",
    "\n",
    "# Calculate load time series in units MW (or, equivalently, MWh/h) by scaling the normalized load time series by the\n",
    "# maximum load value for each of the load points in the grid data set (in units MW); the column index is the bus number\n",
    "# (1-indexed) and the row index is the hour of the year (0-indexed)\n",
    "load_time_series_mapped = profiles_mapped.mul(net.load['p_mw'])\n",
    "\n",
    "\n",
    "# %% Aggregate the load demand in the area\n",
    "\n",
    "# Aggregated load time series for the subset of load buses\n",
    "load_time_series_subset = load_time_series_mapped[bus_i_subset] * scaling_factor\n",
    "load_time_series_subset_aggr = load_time_series_subset.sum(axis=1)\n",
    "\n",
    "P_max = load_time_series_subset_aggr.max()\n"
   ]
  },
  {
   "cell_type": "markdown",
   "metadata": {},
   "source": [
    "## Task 2"
   ]
  },
  {
   "cell_type": "code",
   "execution_count": 62,
   "metadata": {},
   "outputs": [
    {
     "data": {
      "image/png": "[encoded data removed]",
      "text/plain": [
       "<Figure size 576x432 with 1 Axes>"
      ]
     },
     "metadata": {
      "needs_background": "light"
     },
     "output_type": "display_data"
    },
    {
     "name": "stdout",
     "output_type": "stream",
     "text": [
      "Congestion occurs in Year 2, at which point measures need to be implemented.\n"
     ]
    }
   ],
   "source": [
    "import matplotlib.pyplot as plt\n",
    "\n",
    "# Initialize lists to store the results\n",
    "years = []\n",
    "peak_loads = []\n",
    "\n",
    "# Iterate through the 10-year planning horizon\n",
    "for year in range(11):\n",
    "    # Calculate the scaling factor for this year\n",
    "    yearly_scaling_factor = (1+ 0.03) ** year\n",
    "\n",
    "    # Scale the load time series for this year\n",
    "    scaled_load_time_series = load_time_series_subset * yearly_scaling_factor\n",
    "    \n",
    "    # Calculate the peak load demand for this year\n",
    "    peak_load = scaled_load_time_series.sum(axis=1).max()\n",
    "\n",
    "    # Append the year and peak load to the lists\n",
    "    years.append(year)\n",
    "    peak_loads.append(peak_load)\n",
    "\n",
    "# Plot the results\n",
    "plt.figure(figsize=(8, 6))\n",
    "plt.plot(years, peak_loads, linestyle='-', label=\"Peak load demand\", drawstyle=\"steps-post\")\n",
    "plt.xlabel(\"Year\")\n",
    "plt.ylabel(\"Peak Load Demand (MW)\")\n",
    "plt.title(\"Peak Load Demand Over 10-Year Planning Horizon\")\n",
    "plt.grid(True)\n",
    "\n",
    "# Identify the year when congestion occurs\n",
    "congestion_year = np.where(np.array(peak_loads) > P_lim)[0][0]\n",
    "plt.axvline(congestion_year, color='red', linestyle='--', label=f\"Congestion in Year {congestion_year+1}\")\n",
    "plt.axhline(P_lim, color='green', linestyle='-', label=\"Power Limit (4 MW)\")\n",
    "\n",
    "\n",
    "plt.xlim(0, 10)\n",
    "plt.ylim(2.5, 5.5)\n",
    "\n",
    "plt.legend()\n",
    "plt.show()\n",
    "\n",
    "print(f\"Congestion occurs in Year {congestion_year+1}, at which point measures need to be implemented.\")\n"
   ]
  },
  {
   "cell_type": "markdown",
   "metadata": {},
   "source": [
    "## Task 3"
   ]
  },
  {
   "cell_type": "code",
   "execution_count": 63,
   "metadata": {},
   "outputs": [
    {
     "name": "stdout",
     "output_type": "stream",
     "text": [
      "Investment cost of the new line (FeAl 70): 15188160 NOK per kilometer\n"
     ]
    }
   ],
   "source": [
    "l = 20  #km\n",
    "\n",
    "# Assuming no residual value or decommissioning costs for the old line,\n",
    "cost_new_line = 759408*l\n",
    "\n",
    "\n",
    "\n",
    "print(f\"Investment cost of the new line (FeAl 70): {cost_new_line} NOK per kilometer\")"
   ]
  },
  {
   "cell_type": "markdown",
   "metadata": {},
   "source": [
    "## Task 4"
   ]
  },
  {
   "cell_type": "code",
   "execution_count": 64,
   "metadata": {},
   "outputs": [
    {
     "name": "stdout",
     "output_type": "stream",
     "text": [
      "Present value of the investment costs: 14604000.00 NOK per kilometer\n"
     ]
    }
   ],
   "source": [
    "# Define the discount rate and the number of years into the future\n",
    "discount_rate = 0.04  # 4% as a decimal\n",
    "years_into_future = 1  # Since we're calculating the present value at the beginning of year 2 = end of year 1\n",
    "\n",
    "# Calculate the present value\n",
    "def PresentValue(cost,discount_rate,years):\n",
    "    return cost / (1 + discount_rate) ** years\n",
    "\n",
    "\n",
    "present_value = PresentValue(cost_new_line,discount_rate,years_into_future)\n",
    "\n",
    "\n",
    "# Display the present value\n",
    "print(f\"Present value of the investment costs: {present_value:.2f} NOK per kilometer\")\n"
   ]
  },
  {
   "cell_type": "markdown",
   "metadata": {},
   "source": [
    "## Task 5"
   ]
  },
  {
   "cell_type": "code",
   "execution_count": 65,
   "metadata": {},
   "outputs": [
    {
     "name": "stdout",
     "output_type": "stream",
     "text": [
      "Residual value of the new line after 20 years: 7594080.00 NOK\n",
      "Present value of the residual value: 3465838.98 NOK\n",
      "Present value of the investment: 6931677.96 NOK\n",
      "Present value of the investment cost corrected for the residual value: 3465838.98 NOK\n"
     ]
    }
   ],
   "source": [
    "# Define the economic lifetime of the new line (in years)\n",
    "economic_lifetime = 40\n",
    "\n",
    "# Define the number of years into the future (20 years analysis horizon)\n",
    "years_into_future = 20\n",
    "\n",
    "# Calculate the residual value of the new line after 20 years\n",
    "# The residual value is the remaining economic life, expressed as a fraction of the initial investment cost.\n",
    "residual_value = (economic_lifetime - years_into_future) / economic_lifetime * cost_new_line\n",
    "\n",
    "# Calculate the present value of the residual value\n",
    "present_value_residual_value = PresentValue(residual_value,discount_rate,years_into_future)\n",
    "present_value_investment     = PresentValue(cost_new_line,discount_rate,years_into_future)\n",
    "\n",
    "\n",
    "\n",
    "# Calculate the present value of the investment cost corrected for the residual value\n",
    "present_value_corrected = present_value_investment - present_value_residual_value\n",
    "\n",
    "# Display the results\n",
    "print(f\"Residual value of the new line after 20 years: {residual_value:.2f} NOK\")\n",
    "print(f\"Present value of the residual value: {present_value_residual_value:.2f} NOK\")\n",
    "print(f\"Present value of the investment: {present_value_investment:.2f} NOK\")\n",
    "print(f\"Present value of the investment cost corrected for the residual value: {present_value_corrected:.2f} NOK\")\n"
   ]
  },
  {
   "cell_type": "markdown",
   "metadata": {},
   "source": [
    "## Task 6"
   ]
  },
  {
   "cell_type": "code",
   "execution_count": 66,
   "metadata": {},
   "outputs": [
    {
     "data": {
      "image/png": "[encoded data removed]",
      "text/plain": [
       "<Figure size 576x432 with 1 Axes>"
      ]
     },
     "metadata": {
      "needs_background": "light"
     },
     "output_type": "display_data"
    },
    {
     "name": "stdout",
     "output_type": "stream",
     "text": [
      "Congestion occurs in Year 10, at which point measures need to be implemented.\n"
     ]
    }
   ],
   "source": [
    "import matplotlib.pyplot as plt\n",
    "\n",
    "# Initialize lists to store the results\n",
    "years = []\n",
    "peak_loads = []\n",
    "\n",
    "congestion_year = None\n",
    "battery_power_capacity = 1  # MW\n",
    "battery_energy_capacity = 2  # MWh\n",
    "investment_costs = []  # To store present value of grid investments\n",
    "\n",
    "\n",
    "# Iterate through the 10-year planning horizon\n",
    "for year in range(11):\n",
    "    # Calculate the scaling factor for this year\n",
    "    yearly_scaling_factor = (1+ 0.03) ** year\n",
    "\n",
    "    # Scale the load time series for this year\n",
    "    scaled_load_time_series = load_time_series_subset * yearly_scaling_factor\n",
    "    \n",
    "    # Calculate the peak load demand for this year\n",
    "    peak_load = scaled_load_time_series.sum(axis=1).max() - battery_power_capacity\n",
    "\n",
    "    # Append the year and peak load to the lists\n",
    "    years.append(year)\n",
    "    peak_loads.append(peak_load)\n",
    "\n",
    "\n",
    "transparent_peak_loads = [peak_load + battery_power_capacity for peak_load in peak_loads]\n",
    "\n",
    "# Plot the results\n",
    "plt.figure(figsize=(8, 6))\n",
    "plt.plot(years, peak_loads, linestyle='-', label=\"Peak load demand (with battery)\", drawstyle=\"steps-post\")\n",
    "plt.plot(years, transparent_peak_loads, linestyle='--', alpha=0.4, color='blue', label=\"Peak load demand (without battery)\",drawstyle=\"steps-post\")\n",
    "plt.xlabel(\"Year\")\n",
    "plt.ylabel(\"Peak Load Demand (MW)\")\n",
    "plt.title(\"Peak Load Demand Over 10-Year Planning Horizon\")\n",
    "plt.grid(True)\n",
    "\n",
    "# Identify the year when congestion occurs\n",
    "congestion_year = np.where(np.array(peak_loads) > P_lim)[0][0]\n",
    "plt.axvline(congestion_year, color='red', linestyle='--', label=f\"Congestion in Year {congestion_year+1}\")\n",
    "plt.axhline(P_lim, color='green', linestyle='-', label=\"Power Limit (4 MW)\")\n",
    "\n",
    "\n",
    "plt.xlim(0, 10)\n",
    "plt.ylim(2.5, 5.5)\n",
    "\n",
    "plt.legend()\n",
    "plt.show()\n",
    "\n",
    "print(f\"Congestion occurs in Year {congestion_year+1}, at which point measures need to be implemented.\")"
   ]
  },
  {
   "cell_type": "code",
   "execution_count": 67,
   "metadata": {},
   "outputs": [
    {
     "name": "stdout",
     "output_type": "stream",
     "text": [
      "Present value of the investment costs: 10670999.75 NOK per kilometer\n",
      "Residual value of the new line after 20 years: 7594080.00 NOK\n",
      "Present value of the residual value: 3465838.98 NOK\n",
      "Present value of the investment: 6931677.96 NOK\n",
      "Present value of the investment cost corrected for the residual value: 3465838.98 NOK\n"
     ]
    }
   ],
   "source": [
    "##Recalculating the present value of grid investments now that the year is changed from 1 to 9\n",
    "\n",
    "# Define the discount rate and the number of years into the future\n",
    "discount_rate = 0.04  # 4% as a decimal\n",
    "years_into_future = 9  # Since we're calculating the present value at the beginning of year 10 = end of year 9\n",
    "\n",
    "# Calculate the present value\n",
    "def PresentValue(cost,discount_rate,years):\n",
    "    return cost / (1 + discount_rate) ** years\n",
    "\n",
    "\n",
    "present_value = PresentValue(cost_new_line,discount_rate,years_into_future)\n",
    "\n",
    "\n",
    "# Display the present value\n",
    "print(f\"Present value of the investment costs: {present_value:.2f} NOK per kilometer\")\n",
    "\n",
    "# Define the economic lifetime of the new line (in years)\n",
    "economic_lifetime = 40\n",
    "\n",
    "# Define the number of years into the future (20 years analysis horizon)\n",
    "years_into_future = 20\n",
    "\n",
    "# Calculate the residual value of the new line after 20 years\n",
    "# The residual value is the remaining economic life, expressed as a fraction of the initial investment cost.\n",
    "residual_value = (economic_lifetime - years_into_future) / economic_lifetime * cost_new_line\n",
    "\n",
    "# Calculate the present value of the residual value\n",
    "present_value_residual_value = PresentValue(residual_value,discount_rate,years_into_future)\n",
    "present_value_investment     = PresentValue(cost_new_line,discount_rate,years_into_future)\n",
    "\n",
    "\n",
    "\n",
    "# Calculate the present value of the investment cost corrected for the residual value\n",
    "present_value_corrected = present_value_investment - present_value_residual_value\n",
    "\n",
    "# Display the results\n",
    "print(f\"Residual value of the new line after 20 years: {residual_value:.2f} NOK\")\n",
    "print(f\"Present value of the residual value: {present_value_residual_value:.2f} NOK\")\n",
    "print(f\"Present value of the investment: {present_value_investment:.2f} NOK\")\n",
    "print(f\"Present value of the investment cost corrected for the residual value: {present_value_corrected:.2f} NOK\")\n"
   ]
  },
  {
   "cell_type": "markdown",
   "metadata": {},
   "source": [
    "## Task 7"
   ]
  },
  {
   "cell_type": "code",
   "execution_count": 68,
   "metadata": {},
   "outputs": [
    {
     "name": "stdout",
     "output_type": "stream",
     "text": [
      "Costs for exceeding power amount of 0 in year 0 was equal to: 0\n",
      "Costs for exceeding power amount of 0.026135131932091937 in year 1 was equal to: 1045.4052772836776\n",
      "Costs for exceeding power amount of 0.14691918589005404 in year 2 was equal to: 5876.767435602162\n",
      "Costs for exceeding power amount of 0.2713267614667565 in year 3 was equal to: 10853.07045867026\n",
      "Costs for exceeding power amount of 0.39946656431075933 in year 4 was equal to: 15978.662572430374\n",
      "Costs for exceeding power amount of 0.5314505612400815 in year 5 was equal to: 21258.02244960326\n",
      "Costs for exceeding power amount of 0.667394078077284 in year 6 was equal to: 26695.76312309136\n",
      "Costs for exceeding power amount of 0.8074159004196035 in year 7 was equal to: 32296.63601678414\n",
      "Costs for exceeding power amount of 0.9516383774321913 in year 8 was equal to: 38065.53509728765\n",
      "Costs for exceeding power amount of 1.100187528755157 in year 9 was equal to: 44007.501150206284\n",
      "Costs for exceeding power amount of 1.2531931546178114 in year 10 was equal to: 50127.72618471246\n"
     ]
    }
   ],
   "source": [
    "exceeding_power = []\n",
    "\n",
    "p_MWH = 2000\n",
    "days = 20\n",
    "\n",
    "for year in range(11):\n",
    "    # Calculate the scaling factor for this year\n",
    "    yearly_scaling_factor = (1+ 0.03) ** year\n",
    "\n",
    "    # Scale the load time series for this year\n",
    "    scaled_load_time_series = load_time_series_subset * yearly_scaling_factor\n",
    "\n",
    "    if scaled_load_time_series.sum(axis=1).max() > P_lim:\n",
    "        exceeding_power.append(scaled_load_time_series.sum(axis=1).max() - P_lim)\n",
    "    else:\n",
    "        exceeding_power.append(0)\n",
    "\n",
    "\n",
    "ACT_costs_B = []    \n",
    "for year in range(11): \n",
    "    costs = exceeding_power[year] * days * p_MWH\n",
    "    ACT_costs_B.append(costs)\n",
    "    print(f\"Costs for exceeding power amount of\", exceeding_power[year] ,\"in year\", year, \"was equal to:\",ACT_costs_B[year])\n"
   ]
  },
  {
   "cell_type": "markdown",
   "metadata": {},
   "source": [
    "## Task 8"
   ]
  },
  {
   "cell_type": "code",
   "execution_count": 69,
   "metadata": {},
   "outputs": [
    {
     "name": "stdout",
     "output_type": "stream",
     "text": [
      "Failures per year: 0.79\n",
      "Hours per failure: 3.00\n",
      "[4.385262, 4.516819860000001, 4.6523244558000005, 4.791894189473999, 4.9356510151582205, 5.083720545612967, 5.2362321619813565, 5.3933191268407965, 5.555118700646022, 5.721772261665403, 5.893425429515364]\n"
     ]
    }
   ],
   "source": [
    "import numpy as np\n",
    "\n",
    "# Given data\n",
    "line_length = 20  # Length of the feeder in km\n",
    "average_load_demand_year_1 = 1.841  # MW\n",
    "years = 11  # Planning horizon\n",
    "\n",
    "# Retrieve the failure rates from the DataFrame\n",
    "line_failure_rate = data_comp_rel.loc['Overhead line (1–22 kV)', 'lambda_perm']             # Frequency of failures per 100km each year\n",
    "line_fail = line_failure_rate * line_length / (100)                                         # Failures per year over a 20km line\n",
    "print(f\"Failures per year: {line_fail:.2f}\")\n",
    "\n",
    "line_failure_duration = data_comp_rel.loc['Overhead line (1–22 kV)', 'r_perm']              # Hours per failure\n",
    "print(f\"Hours per failure: {line_failure_duration:.2f}\")\n",
    "\n",
    "ENS_A = []\n",
    "\n",
    "for year in range(11):\n",
    "    # Calculate the scaling factor for this year\n",
    "    yearly_scaling_factor = (1 + 0.03) ** year\n",
    "\n",
    "    # Scale the load time series for this year\n",
    "    scaled_load_time_series = average_load_demand_year_1 * yearly_scaling_factor\n",
    "\n",
    "    energy_not_supplied = scaled_load_time_series * line_fail * line_failure_duration  #(demand (MW) * failure rate (%) * duration (h))\n",
    "\n",
    "    ENS_A.append(energy_not_supplied) \n",
    "\n",
    "print(ENS_A)\n",
    "\n"
   ]
  },
  {
   "cell_type": "markdown",
   "metadata": {},
   "source": [
    "## Task 9"
   ]
  },
  {
   "cell_type": "code",
   "execution_count": 70,
   "metadata": {},
   "outputs": [
    {
     "name": "stdout",
     "output_type": "stream",
     "text": [
      "Failures per year: 0.79\n",
      "Hours per failure: 3.00\n",
      "54652.42877293131\n",
      "[]\n",
      "[]\n"
     ]
    }
   ],
   "source": [
    "import numpy as np\n",
    "\n",
    "# Given data\n",
    "line_length = 20  # Length of the feeder in km\n",
    "P_avg = 1.841  # MW\n",
    "years = 11  # Planning horizon\n",
    "\n",
    "# Retrieve the failure rates from the DataFrame\n",
    "line_failure_rate = data_comp_rel.loc['Overhead line (1–22 kV)', 'lambda_perm']             # Frequency of failures per 100km each year\n",
    "line_fail = line_failure_rate * line_length / (100)                                         # Failures per year over a 20km line\n",
    "print(f\"Failures per year: {line_fail:.2f}\")\n",
    "\n",
    "line_failure_duration = data_comp_rel.loc['Overhead line (1–22 kV)', 'r_perm']              # Hours per failure\n",
    "print(f\"Hours per failure: {line_failure_duration:.2f}\")\n",
    "\n",
    "#Use 4h because it's closest to the failure duration from previous tasks\n",
    "CENS_90 = data_load_point.loc[90,'c_NOK_per_kWh_4h']\n",
    "CENS_91 = data_load_point.loc[91,'c_NOK_per_kWh_4h'] \n",
    "CENS_92 = data_load_point.loc[92,'c_NOK_per_kWh_4h']\n",
    "CENS_96 = data_load_point.loc[96,'c_NOK_per_kWh_4h']\n",
    "\n",
    "CENS_avg = ((CENS_90 + CENS_91 + CENS_92 + CENS_96)/4)*1000  #Nok per kWh --> nok per mwh\n",
    "print(CENS_avg)\n",
    "\n",
    "ENS_A = []\n",
    "CENS_A = []\n",
    "\n",
    "for year in range(11):\n",
    "    # Calculate the scaling factor for this year\n",
    "    yearly_scaling_factor = (1 + 0.03) ** year\n",
    "\n",
    "    # Scale the load time series for this year\n",
    "    scaled_load_time_series = P_avg * yearly_scaling_factor\n",
    "\n",
    "    energy_not_supplied = scaled_load_time_series * line_fail * line_failure_duration  #(demand (MWh) * failure rate (%) * duration (h))\n",
    "\n",
    "    costs_energy_not_supplied = energy_not_supplied * CENS_avg\n",
    "\n",
    "    ENS.append(energy_not_supplied) \n",
    "    CENS.append(costs_energy_not_supplied)\n",
    "\n",
    "print(ENS_A)\n",
    "print(CENS_A)"
   ]
  },
  {
   "cell_type": "markdown",
   "metadata": {},
   "source": [
    "## Task 10"
   ]
  },
  {
   "cell_type": "code",
   "execution_count": 71,
   "metadata": {},
   "outputs": [
    {
     "name": "stdout",
     "output_type": "stream",
     "text": [
      "Failures per year: 0.79\n",
      "Hours per failure: 3.00\n",
      "[2.385262, 2.516819860000001, 2.6523244558000005, 2.7918941894739993, 2.9356510151582205, 3.083720545612967, 3.2362321619813565, 3.3933191268407965, 3.5551187006460223, 3.7217722616654028, 3.8934254295153643]\n",
      "[130360.36155977967, 137550.318132949, 144955.9734033133, 152583.79833178854, 160440.45800811812, 168532.81747473753, 176867.9477253556, 185453.13188349208, 194295.87156637284, 203403.89343973988, 212785.15596930793]\n"
     ]
    }
   ],
   "source": [
    "import numpy as np\n",
    "\n",
    "# Given data\n",
    "line_length = 20  # Length of the feeder in km\n",
    "P_avg = 1.841  # MW\n",
    "years = 11  # Planning horizon\n",
    "\n",
    "#Remember that the battery has a energy storage of 2 MWh, and a capacity of 1 MW\n",
    "\n",
    "\n",
    "# Retrieve the failure rates from the DataFrame\n",
    "line_failure_rate = data_comp_rel.loc['Overhead line (1–22 kV)', 'lambda_perm']             # Frequency of failures per 100km each year\n",
    "line_fail = line_failure_rate * line_length / (100)                                         # Failures per year over a 20km line\n",
    "print(f\"Failures per year: {line_fail:.2f}\")\n",
    "\n",
    "line_failure_duration = data_comp_rel.loc['Overhead line (1–22 kV)', 'r_perm']              # Hours per failure\n",
    "print(f\"Hours per failure: {line_failure_duration:.2f}\")\n",
    "\n",
    "#Use 4h because it's closest to the failure duration from previous tasks\n",
    "CENS_90 = data_load_point.loc[90,'c_NOK_per_kWh_4h']\n",
    "CENS_91 = data_load_point.loc[91,'c_NOK_per_kWh_4h'] \n",
    "CENS_92 = data_load_point.loc[92,'c_NOK_per_kWh_4h']\n",
    "CENS_96 = data_load_point.loc[96,'c_NOK_per_kWh_4h']\n",
    "\n",
    "CENS_avg = ((CENS_90 + CENS_91 + CENS_92 + CENS_96)/4)*1000  #Nok per kWh --> nok per mwh\n",
    "\n",
    "ENS_B = []\n",
    "CENS_B = []\n",
    "\n",
    "for year in range(11):\n",
    "    # Calculate the scaling factor for this year\n",
    "    yearly_scaling_factor = (1 + 0.03) ** year\n",
    "\n",
    "    # Scale the load time series for this year\n",
    "    scaled_load_time_series = P_avg * yearly_scaling_factor\n",
    "\n",
    "    energy_not_supplied = (scaled_load_time_series * line_fail * line_failure_duration - battery_energy_capacity) #(demand (MWh) * failure rate (%) * duration (h) - battery_energy_capacity (MWh))\n",
    "\n",
    "    costs_energy_not_supplied = energy_not_supplied * CENS_avg\n",
    "\n",
    "    ENS_B.append(energy_not_supplied) \n",
    "    CENS_B.append(costs_energy_not_supplied)\n",
    "\n",
    "print(ENS_B)\n",
    "print(CENS_B)\n"
   ]
  },
  {
   "cell_type": "markdown",
   "metadata": {},
   "source": [
    "## Task 12 - NPV for grid solution A"
   ]
  },
  {
   "cell_type": "code",
   "execution_count": 72,
   "metadata": {},
   "outputs": [
    {
     "name": "stdout",
     "output_type": "stream",
     "text": [
      "The NPV of investment costs in grid solution A is: 1373542.951129278 NOK\n",
      "The NPV of activation costs in grid solution A is: 1373542.951129278 NOK\n",
      "The NPV of interruption costs in grid solution A is: 1373542.951129278 NOK\n"
     ]
    }
   ],
   "source": [
    "#Calculating NPV\n",
    " \n",
    "\n",
    "\n",
    "\n",
    "Present_value_CENS_A = []\n",
    "Present_value_ACT_A = []\n",
    "Present_value_INV_A = []\n",
    "\n",
    "\n",
    "#Calculating NPV for the grid investment in terms of interruption costs i\n",
    "for i in range(10):\n",
    "    Present_value_INV_A.append(PresentValue(INV_A[i],0.04,i))           #Present value of all time periods for investment costs in grid solution A\n",
    "    Present_value_ACT_A.append(PresentValue(0,0.04,i))                  #Present value of all time periods for action costs in grid solution A  = 0 since no battery is present\n",
    "    Present_value_CENS_A.append(PresentValue(CENS[i],0.04,i))           #Present value for all interruption costs in grid solution A\n",
    "    \n",
    "\n",
    "print(\"The NPV of investment costs in grid solution A is:\",sum(Present_value_INV_A),\"NOK\")\n",
    "print(\"The NPV of activation costs in grid solution A is:\",sum(Present_value_ACT_A),\"NOK\")\n",
    "print(\"The NPV of interruption costs in grid solution A is:\",sum(Present_value_CENS_A),\"NOK\")\n",
    "\n",
    "\n",
    "\n"
   ]
  },
  {
   "cell_type": "markdown",
   "metadata": {},
   "source": [
    "## Task 13 - NPV for grid solution B"
   ]
  },
  {
   "cell_type": "code",
   "execution_count": 76,
   "metadata": {},
   "outputs": [
    {
     "name": "stdout",
     "output_type": "stream",
     "text": [
      "The NPV of activation costs in grid solution A is: 0 NOK\n",
      "The NPV of interruption costs in grid solution A is: 0 NOK\n"
     ]
    }
   ],
   "source": [
    "Present_value_CENS_B = []\n",
    "Present_value_ACT_B = []\n",
    "Present_value_INV_B = []\n",
    "\n",
    "\n",
    "#Calculating NPV for the grid investment in terms of interruption costs i\n",
    "for i in range(10):\n",
    "    #Present_value_INV_A.append(PresentValue(INV_B[i],0.04,i))           #Present value of all time periods for investment costs in grid solution A\n",
    "    Present_value_ACT_A.append(PresentValue(ACT_costs_B[i],0.04,i))                  #Present value of all time periods for action costs in grid solution A  = 0 since no battery is present\n",
    "    Present_value_CENS_A.append(PresentValue(CENS_B[i],0.04,i))           #Present value for all interruption costs in grid solution A\n",
    "    \n",
    "\n",
    "#print(\"The NPV of investment costs in grid solution A is:\",sum(Present_value_INV_B),\"NOK\")\n",
    "print(\"The NPV of activation costs in grid solution B is:\",sum(Present_value_ACT_B),\"NOK\")\n",
    "print(\"The NPV of interruption costs in grid solution B is:\",sum(Present_value_CENS_B),\"NOK\")\n",
    "\n",
    "\n"
   ]
  },
  {
   "cell_type": "code",
   "execution_count": null,
   "metadata": {},
   "outputs": [],
   "source": []
  }
 ],
 "metadata": {
  "kernelspec": {
   "display_name": "base",
   "language": "python",
   "name": "python3"
  },
  "language_info": {
   "codemirror_mode": {
    "name": "ipython",
    "version": 3
   },
   "file_extension": ".py",
   "mimetype": "text/x-python",
   "name": "python",
   "nbconvert_exporter": "python",
   "pygments_lexer": "ipython3",
   "version": "3.9.12"
  }
 },
 "nbformat": 4,
 "nbformat_minor": 2
}
